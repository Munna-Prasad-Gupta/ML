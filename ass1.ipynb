{
  "nbformat": 4,
  "nbformat_minor": 0,
  "metadata": {
    "colab": {
      "provenance": [],
      "authorship_tag": "ABX9TyNylsx2tn0FmZqbhV1fNS+q",
      "include_colab_link": true
    },
    "kernelspec": {
      "name": "python3",
      "display_name": "Python 3"
    },
    "language_info": {
      "name": "python"
    }
  },
  "cells": [
    {
      "cell_type": "markdown",
      "metadata": {
        "id": "view-in-github",
        "colab_type": "text"
      },
      "source": [
        "<a href=\"https://colab.research.google.com/github/Munna-Prasad-Gupta/ML/blob/main/ass1.ipynb\" target=\"_parent\"><img src=\"https://colab.research.google.com/assets/colab-badge.svg\" alt=\"Open In Colab\"/></a>"
      ]
    },
    {
      "cell_type": "code",
      "execution_count": null,
      "metadata": {
        "id": "vzI55bgHTkgV"
      },
      "outputs": [],
      "source": [
        "# Q1"
      ]
    },
    {
      "cell_type": "code",
      "source": [
        "list = [2,7,4,1,3,6]\n",
        "\n",
        "def count_pairs_equal_ten(lists):\n",
        "  count = 0\n",
        "  for i in range(len(lists)):\n",
        "    for j in range(i + 1,len(lists)):\n",
        "      if lists[i] + lists[j] == 10:\n",
        "        count += 1\n",
        "  return count\n",
        "\n",
        "result = count_pairs_equal_ten(list)\n",
        "print(f\"Number of pairs with sum equal to 10 : {result}\")\n",
        "print(\"Total count is : \" ,result)"
      ],
      "metadata": {
        "colab": {
          "base_uri": "https://localhost:8080/"
        },
        "id": "8NqhDLLIUr0T",
        "outputId": "852a6f39-b66d-4fdc-b36c-d95ce7534a65"
      },
      "execution_count": null,
      "outputs": [
        {
          "output_type": "stream",
          "name": "stdout",
          "text": [
            "Number of pairs with sum equal to 10 : 2\n",
            "Total count is :  2\n"
          ]
        }
      ]
    },
    {
      "cell_type": "code",
      "source": [
        "list = [1.5,3,4]\n",
        "\n",
        "def max_min_range(lists):\n",
        "   if len(lists) < 3:\n",
        "    return -1\n",
        "    range_list = []\n",
        "   min = lists[0]\n",
        "   max = lists[0]\n",
        "   for i in range(len(lists)):\n",
        "     if min > lists[i]:\n",
        "       min=lists[i]\n",
        "     if max < lists[i]:\n",
        "       max = lists[i]\n",
        "   range_list =[max, min]\n",
        "   return range_list\n",
        "\n",
        "result = max_min_range(list)\n",
        "if result != -1:\n",
        "  print(f\"The range  is {result[0]}-{result[1]}\")\n",
        "else:\n",
        "  print(\"Range Determination not possible\")"
      ],
      "metadata": {
        "colab": {
          "base_uri": "https://localhost:8080/"
        },
        "id": "zD0MqsSOW1fI",
        "outputId": "833e716f-1e7b-481c-8d0b-9c0de90eb846"
      },
      "execution_count": null,
      "outputs": [
        {
          "output_type": "stream",
          "name": "stdout",
          "text": [
            "The range  is 4 - 1.5\n"
          ]
        }
      ]
    },
    {
      "cell_type": "code",
      "source": [
        "arr = [[1,2,3],[4,5,6],[8,7,9]]\n",
        "\n",
        "def matrix_multiply(result ,arr):\n",
        "  if len(arr) != len(arr[0]):\n",
        "      return -1\n",
        "\n",
        "  result_arr = []\n",
        "\n",
        "  for i in range(len(arr)):\n",
        "      result_arr.append([0] * len(arr))\n",
        "\n",
        "\n",
        "\n",
        "  for i in range(len(arr)):\n",
        "    for j in range(len(arr)):\n",
        "      for k in range(len(arr)):\n",
        "          result_arr[i][j] += result[i][k] * arr[k][j]\n",
        "\n",
        "\n",
        "  return result_arr\n",
        "\n",
        "def raise_to_powerOfm(arr,m):\n",
        "    if len(arr) != len(arr[0]):\n",
        "       return -1\n",
        "    if(m == 1):\n",
        "      return arr\n",
        "    else:\n",
        "      result = arr\n",
        "      while(m != 1):\n",
        "        result = matrix_multiply(result,arr)\n",
        "        m-=1\n",
        "    return result\n",
        "\n",
        "\n",
        "result = raise_to_powerOfm(arr,3)\n",
        "if(result != -1):\n",
        " print(result)\n",
        "else:\n",
        "  print(\"please enter square matrix\")"
      ],
      "metadata": {
        "id": "LH7PJolwlaFc",
        "outputId": "f65f5ceb-fa0d-4412-c997-d6dccff7d2c4",
        "colab": {
          "base_uri": "https://localhost:8080/"
        }
      },
      "execution_count": 21,
      "outputs": [
        {
          "output_type": "stream",
          "name": "stdout",
          "text": [
            "[[0, 0, 0], [0, 0, 0], [0, 0, 0]]\n",
            "[[33, 33, 42], [72, 75, 96], [108, 114, 147]]\n",
            "[[0, 0, 0], [0, 0, 0], [0, 0, 0]]\n",
            "[[501, 525, 675], [1140, 1191, 1530], [1740, 1815, 2331]]\n",
            "[[501, 525, 675], [1140, 1191, 1530], [1740, 1815, 2331]]\n"
          ]
        }
      ]
    },
    {
      "cell_type": "code",
      "source": [
        "word = input(\"Enter a string\")\n",
        "\n",
        "def count_occurence(word):\n",
        "  char_list =[]\n",
        "  count_list =[]\n",
        "  for i in range(len(word)):\n",
        "    c = word[i]\n",
        "    count = 0\n",
        "    for j in range(len(word)):\n",
        "      if c == word[j]:\n",
        "        count += 1\n",
        "    char_list.append(c)\n",
        "    count_list.append(count)\n",
        "\n",
        "  index = 0\n",
        "  max = count_list[0]\n",
        "  for i in range(len(count_list)):\n",
        "    if max < count_list[i]:\n",
        "      max = count_list[i]\n",
        "      index = i\n",
        "  return index,max\n",
        "\n",
        "index , max = count_occurence(word)\n",
        "print(f\"The max occurence of word {word[index]} is {max}\")"
      ],
      "metadata": {
        "id": "DSBrV8n6LUjv",
        "outputId": "6f283dda-52de-4bb0-eff8-a85fbd52621d",
        "colab": {
          "base_uri": "https://localhost:8080/"
        }
      },
      "execution_count": 24,
      "outputs": [
        {
          "output_type": "stream",
          "name": "stdout",
          "text": [
            "Enter a stringhippopotamus\n",
            "The max occurence of word p is 3\n"
          ]
        }
      ]
    },
    {
      "cell_type": "code",
      "source": [],
      "metadata": {
        "id": "bqq4lZ1DUzmp"
      },
      "execution_count": null,
      "outputs": []
    }
  ]
}