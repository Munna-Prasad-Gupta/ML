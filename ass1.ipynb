{
  "nbformat": 4,
  "nbformat_minor": 0,
  "metadata": {
    "colab": {
      "provenance": [],
      "authorship_tag": "ABX9TyOP8DNJAq4qj83zqBtiQYeR",
      "include_colab_link": true
    },
    "kernelspec": {
      "name": "python3",
      "display_name": "Python 3"
    },
    "language_info": {
      "name": "python"
    }
  },
  "cells": [
    {
      "cell_type": "markdown",
      "metadata": {
        "id": "view-in-github",
        "colab_type": "text"
      },
      "source": [
        "<a href=\"https://colab.research.google.com/github/Munna-Prasad-Gupta/ML/blob/main/ass1.ipynb\" target=\"_parent\"><img src=\"https://colab.research.google.com/assets/colab-badge.svg\" alt=\"Open In Colab\"/></a>"
      ]
    },
    {
      "cell_type": "code",
      "execution_count": null,
      "metadata": {
        "id": "vzI55bgHTkgV"
      },
      "outputs": [],
      "source": [
        "# Q1"
      ]
    },
    {
      "cell_type": "code",
      "source": [
        "list = [2,7,4,1,3,6]\n",
        "\n",
        "def count_pairs_equal_ten(lists):\n",
        "  count = 0\n",
        "  for i in range(len(lists)):\n",
        "    for j in range(i + 1,len(lists)):\n",
        "      if lists[i] + lists[j] == 10:\n",
        "        count += 1\n",
        "  return count\n",
        "\n",
        "result = count_pairs_equal_ten(list)\n",
        "print(f\"Number of pairs with sum equal to 10 : {result}\")\n",
        "print(\"Total count is : \" ,result)"
      ],
      "metadata": {
        "colab": {
          "base_uri": "https://localhost:8080/"
        },
        "id": "8NqhDLLIUr0T",
        "outputId": "852a6f39-b66d-4fdc-b36c-d95ce7534a65"
      },
      "execution_count": null,
      "outputs": [
        {
          "output_type": "stream",
          "name": "stdout",
          "text": [
            "Number of pairs with sum equal to 10 : 2\n",
            "Total count is :  2\n"
          ]
        }
      ]
    },
    {
      "cell_type": "code",
      "source": [
        "list = [1.5,3,4]\n",
        "\n",
        "def max_min_diff(lists):\n",
        "   if len(lists) < 3:\n",
        "    return -1\n",
        "\n",
        "   diff = 0\n",
        "   min = lists[0]\n",
        "   max = lists[0]\n",
        "   for i in range(len(lists)):\n",
        "     if min > lists[i]:\n",
        "       min=lists[i]\n",
        "     if max < lists[i]:\n",
        "       max = lists[i]\n",
        "   diff = max - min\n",
        "   return diff\n",
        "\n",
        "result = max_min_diff(list)\n",
        "if result != -1:\n",
        "  print(f\"The range diff is {result}\")\n",
        "else:\n",
        "  print(\"Range Determination not possible\")"
      ],
      "metadata": {
        "colab": {
          "base_uri": "https://localhost:8080/"
        },
        "id": "zD0MqsSOW1fI",
        "outputId": "1b6abbb7-1b9e-426a-87d3-ef6113a2f61d"
      },
      "execution_count": null,
      "outputs": [
        {
          "output_type": "stream",
          "name": "stdout",
          "text": [
            "The range diff is 2.5\n"
          ]
        }
      ]
    },
    {
      "cell_type": "code",
      "source": [
        "import numpy as np\n",
        "\n"
      ],
      "metadata": {
        "id": "LH7PJolwlaFc"
      },
      "execution_count": null,
      "outputs": []
    }
  ]
}